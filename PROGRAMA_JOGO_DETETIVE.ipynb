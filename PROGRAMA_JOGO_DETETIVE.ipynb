{
  "nbformat": 4,
  "nbformat_minor": 0,
  "metadata": {
    "colab": {
      "provenance": [],
      "authorship_tag": "ABX9TyMV9oe9mOmF2knoaU++CegE",
      "include_colab_link": true
    },
    "kernelspec": {
      "name": "python3",
      "display_name": "Python 3"
    },
    "language_info": {
      "name": "python"
    }
  },
  "cells": [
    {
      "cell_type": "markdown",
      "metadata": {
        "id": "view-in-github",
        "colab_type": "text"
      },
      "source": [
        "<a href=\"https://colab.research.google.com/github/jmcarrizo/colab/blob/main/PROGRAMA_JOGO_DETETIVE.ipynb\" target=\"_parent\"><img src=\"https://colab.research.google.com/assets/colab-badge.svg\" alt=\"Open In Colab\"/></a>"
      ]
    },
    {
      "cell_type": "markdown",
      "source": [
        "Este código de Detetive, originalmente chamado Crime (https://www.ic.unicamp.br/~sandra/pdf/class/2018-1/mc102/), é um jogo em Python utilizando Listas, Repetição e Condição.\n",
        "\n",
        "Basta executar o código e responder a cinco perguntas para que saia o veredito. É um jogo simples, mas dá para melhorar o jogo com novas perguntas, conclusões, etc. Enfim, o céu é o limite.\n",
        "\n",
        "São apresentadas duas versões:\n",
        "*   Primeira: versão original do código, encontrado no endereço citado acima\n",
        "*   Segunda: pequenas mudanças, de ordem, digamos, decorativa\n",
        "\n",
        "\n",
        "Boa diversão!\n"
      ],
      "metadata": {
        "id": "WfAYWJ4f7rrH"
      }
    },
    {
      "cell_type": "code",
      "execution_count": null,
      "metadata": {
        "id": "1vQOWf6j7JlX"
      },
      "outputs": [],
      "source": [
        "#Versão original do código\n",
        "res = []\n",
        "res.append(input(\"Telefonou para a vítima? 1/Sim ou 0/Não: \"))\n",
        "res.append(input(\"Esteve no local do crime? 1/Sim ou 0/Não: \"))\n",
        "res.append(input(\"Mora perto da vítima? 1/Sim ou 0/Não: \"))\n",
        "res.append(input(\"Devia para a vítima? 1/Sim ou 0/Não: \"))\n",
        "res.append(input(\"Já trabalhou com a vítima? 1/Sim ou 0/Não: \"))\n",
        "\n",
        "soma_respostas = 0\n",
        "\n",
        "for i in res: # soma o número de respostas\n",
        "  soma_respostas += int(i)\n",
        "if (soma_respostas < 2):\n",
        "  print(\"\\nInocente\")\n",
        "elif (soma_respostas == 2):\n",
        "  print(\"\\nSuspeita\")\n",
        "elif (3 <= soma_respostas <= 4):\n",
        "  print(\"\\nCúmplice\")\n",
        "elif (soma_respostas == 5):\n",
        "  print(\"\\nAssassino\")"
      ]
    },
    {
      "cell_type": "code",
      "source": [
        "#Versão modificada do código, mas apenas de caráter decorativo\n",
        "#Autor das alterações: Juan Martin Carrizo\n",
        "#Data: 15/11/2022\n",
        "\n",
        "print('Bom, vamos lá. Não tenho muito tempo a perder. Quanto mais rápido resolvermos isso, mais cedo você volta pra casa, ou ...')\n",
        "nome_suspeito = input('Em primeiro lugar, eu sou o detetive Bond ... Bond Faro. Me diga seu nome completo para os registros. ')\n",
        "primeiro_nome = nome_suspeito.split(None, 1)[0]\n",
        "print('Agora,', primeiro_nome,', você vai responder cinco perguntas bem simples, e então eu vou definir seu destino: sua casa ou o xadrez.')\n",
        "\n",
        "\n",
        "res = []\n",
        "res.append(input(\"\\nVocê telefonou para a vítima? 1/Sim ou 0/Não: \"))\n",
        "res.append(input(\"Esteve no local do crime? 1/Sim ou 0/Não: \"))\n",
        "res.append(input(\"Mora perto da vítima? 1/Sim ou 0/Não: \"))\n",
        "res.append(input(\"Por acaso, você devia para a vítima? 1/Sim ou 0/Não: \"))\n",
        "res.append(input(\"Já trabalhou com a vítima? 1/Sim ou 0/Não: \"))\n",
        "\n",
        "soma_respostas = 0\n",
        "\n",
        "for i in res: # soma o número de respostas\n",
        "  soma_respostas += int(i)\n",
        "if (soma_respostas < 2):\n",
        "  print(\"\\nMuito bem,\", primeiro_nome,\", você está liberado e pode voltar para casa. Você é inocente.\")\n",
        "elif (soma_respostas == 2):\n",
        "  print(\"\\nBom,\", primeiro_nome,\", você é considerado sob suspeita, e precisamos conversar um pouco mais!\")\n",
        "elif (3 <= soma_respostas <= 4):\n",
        "  print('\\n', primeiro_nome,\", vemos que esse crime não foi obra de uma pessoa só. Ou você é cúmplice, ou você teve cúmplices, e vamos ter que prolongar sua conversa aqui!\")\n",
        "elif (soma_respostas == 5):\n",
        "  print('\\n',primeiro_nome,\", você está sendo preso por assassinato. Você tem o direito de permanecer calado. Tudo que você disser poderá ser usado contra você no tribunal.\")\n",
        "  print('Você tem direito a um advogado. Você tem direito a ter um advogado durante o interrogatório.')\n",
        "  print('Se você não puder ter um advogado, você terá direito a um pelo estado.')\n",
        "\n"
      ],
      "metadata": {
        "id": "CwS-hq1ZV8zE"
      },
      "execution_count": null,
      "outputs": []
    }
  ]
}